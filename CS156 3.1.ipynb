{
 "cells": [
  {
   "cell_type": "code",
   "execution_count": 52,
   "metadata": {},
   "outputs": [
    {
     "name": "stdout",
     "output_type": "stream",
     "text": [
      "Mean Squared Error scores are: [ -209.38128053  -149.25113629 -6276.06465676  -104.77408863  -119.36615478\n",
      " -1201.59104366 -1225.16973061  -852.87131329   -98.92100565   -89.7466241 ]\n",
      "Mean Absolute Error scores are: [-10.24668281  -9.55674968 -22.9977592   -7.49777411  -9.19524434\n",
      " -15.62892499 -14.00136957 -16.15943893  -7.97170631  -7.44117954]\n",
      "Median Absolute Error scores are: [-6.41170454 -8.62273065 -6.23289923 -5.67397918 -8.73219939 -7.44657636\n",
      " -6.02190436 -8.89223542 -7.70032622 -6.33856619]\n",
      "The R-squared scores are: [-0.04353809 -0.20901158 -0.01673905 -2.27589647 -7.75974717 -0.03733981\n",
      " -0.07165617 -0.30375272 -1.41642168 -0.76265556]\n"
     ]
    }
   ],
   "source": [
    "import pandas\n",
    "import numpy as np\n",
    "import sklearn\n",
    "from sklearn.model_selection import train_test_split, cross_val_score\n",
    "from sklearn import linear_model\n",
    "from sklearn.metrics import mean_squared_error\n",
    "\n",
    "fb = pandas.read_csv(\"facebook_train.csv\")\n",
    "\n",
    "fb[\"is_photo\"] = [d == \"Photo\" for d in fb.type]\n",
    "fb[\"is_link\"]  = [d == \"Link\" for d in fb.type]\n",
    "fb[\"cat2\"]  = [d == 2 for d in fb.category]\n",
    "fb[\"cat3\"]  = [d == 3 for d in fb.category]\n",
    "\n",
    "X, X_test, y, y_test = train_test_split(fb[[\"total_followers\", \"month\", \"weekday\", \"hour\", \n",
    "                                              \"is_photo\", \"is_link\", \"cat2\", \"cat3\", \"paid\"]], fb.comment, \n",
    "                                        test_size = .25, shuffle = True)\n",
    "\n",
    "reg = linear_model.Lasso(alpha=0.02)\n",
    "\n",
    "reg.fit(X, y)\n",
    "\n",
    "print \"Mean Squared Error scores are:\", cross_val_score(reg, X, y, cv=10, scoring='neg_mean_squared_error')\n",
    "print \"Mean Absolute Error scores are:\", cross_val_score(reg, X, y, cv=10, scoring='neg_mean_absolute_error')\n",
    "print \"Median Absolute Error scores are:\", cross_val_score(reg, X, y, cv=10, scoring='neg_median_absolute_error')\n",
    "print \"The R-squared scores are:\", cross_val_score(reg, X, y, cv=10, scoring='r2')"
   ]
  },
  {
   "cell_type": "code",
   "execution_count": 86,
   "metadata": {},
   "outputs": [
    {
     "name": "stdout",
     "output_type": "stream",
     "text": [
      "Classification report for classifier RandomForestClassifier(bootstrap=True, class_weight='balanced',\n",
      "            criterion='gini', max_depth=None, max_features='auto',\n",
      "            max_leaf_nodes=None, min_impurity_decrease=0.0,\n",
      "            min_impurity_split=None, min_samples_leaf=1,\n",
      "            min_samples_split=2, min_weight_fraction_leaf=0.0,\n",
      "            n_estimators=10, n_jobs=1, oob_score=False, random_state=None,\n",
      "            verbose=0, warm_start=False):\n",
      "             precision    recall  f1-score   support\n",
      "\n",
      "      False       0.93      0.61      0.74     41506\n",
      "       True       0.17      0.65      0.27      5061\n",
      "\n",
      "avg / total       0.85      0.62      0.69     46567\n",
      "\n",
      "\n"
     ]
    }
   ],
   "source": [
    "import pandas as pd\n",
    "from sklearn import linear_model\n",
    "from sklearn import svm\n",
    "from sklearn import metrics\n",
    "from sklearn.model_selection import train_test_split\n",
    "from sklearn.ensemble import RandomForestClassifier\n",
    "import warnings\n",
    "warnings.filterwarnings(\"ignore\", category=DeprecationWarning) \n",
    "from sklearn.metrics import roc_curve, accuracy_score\n",
    "\n",
    "data = pd.read_csv(\"casualty_train.csv\")\n",
    "\n",
    "data = pd.get_dummies(data, columns=[\"casualty_class\", \"gender\", \"travel\", \"pedestrian_location\", \n",
    "                                     \"pedestrian_movement\"], drop_first = True)\n",
    "\n",
    "\n",
    "X1, X1_test, y1, y1_test = train_test_split(data.drop(['severe', 'age'], axis=1), data.severe, test_size=.2)\n",
    "\n",
    "rfor = RandomForestClassifier(class_weight='balanced')\n",
    "rfor.fit(X1, y1)\n",
    "\n",
    "pred = rfor.predict(X1_test)\n",
    "\n",
    "print(\"Classification report for classifier %s:\\n%s\\n\"\n",
    "      % (rfor, metrics.classification_report(y1_test, pred)))\n",
    "\n",
    "#ROC NOT SURE HOW TO DO\n",
    "#fpr, tpr, thresholds = roc_curve(y1, scores, pos_label=2)"
   ]
  },
  {
   "cell_type": "code",
   "execution_count": null,
   "metadata": {
    "collapsed": true
   },
   "outputs": [],
   "source": []
  }
 ],
 "metadata": {
  "kernelspec": {
   "display_name": "Python 2",
   "language": "python",
   "name": "python2"
  },
  "language_info": {
   "codemirror_mode": {
    "name": "ipython",
    "version": 2
   },
   "file_extension": ".py",
   "mimetype": "text/x-python",
   "name": "python",
   "nbconvert_exporter": "python",
   "pygments_lexer": "ipython2",
   "version": "2.7.13"
  }
 },
 "nbformat": 4,
 "nbformat_minor": 2
}
