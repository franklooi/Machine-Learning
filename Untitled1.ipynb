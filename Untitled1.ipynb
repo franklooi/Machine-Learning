{
 "cells": [
  {
   "cell_type": "markdown",
   "metadata": {},
   "source": [
    "Hand in solutions to the following exercises from Barber (2012):\n",
    "\n",
    "Exercise 1.14\n",
    "\n",
    "A redistribution lottery involves picking the correct four numbers from 1 to 9 (without\n",
    "replacement, so 3,4,4,1 for example is not possible). The order of the picked numbers is irrelevant. \n",
    "\n",
    "Every week a million people play this game, each paying £1 to enter, with the numbers 3,5,7,9 being the most\n",
    "popular (1 in every 100 people chooses these numbers). Given that the million pounds prize money is split\n",
    "equally between winners, and that any four (different) numbers come up at random, what is the expected\n",
    "amount of money each of the players choosing 3,5,7,9 will win each week? \n",
    "\n",
    "The least popular set of numbers is 1,2,3,4 with only 1 in 10,000 people choosing this. How much do they profit each week, on average? Do you think there is any ‘skill’ involved in playing this lottery?"
   ]
  },
  {
   "cell_type": "raw",
   "metadata": {},
   "source": [
    "Total possible numbers = 9C4 = 126\n",
    "\n",
    "Probability of [3,5,7,9] = 0.01\n",
    "Number of people with [3,5,7,9] = 1,000,000 * 0.01 = 10,000\n",
    "Probability of [3,5,7,9] being the winning number this week = 1/126\n",
    "\n",
    "Expected amount of money each player win = 1,000,000 / (10,000 * 126) = £0.79\n",
    "\n",
    "\n",
    "Probability of [1,2,3,4] = 0.0001\n",
    "Number of people with [1,2,3,4] = 1,000,000 * 0.0001 = 100\n",
    "Probability of [1,2,3,4] being the winning number this week = 1/126\n",
    "\n",
    "Expected amount of money each player win = 1,000,000 / (100 * 126) = £79.37\n",
    "\n",
    "Since the 4 numbers and the winning combination are both picked randomly, the only thing we can somewhat control is the commonality of our number-at-hand. The people who bet against the odds by picking the least popuar numbers (eg: 1,2,3,4) will split their winnings with less people. At any given week, we should attempt the lottery as many time as possible to choose a non-popular combination. This will ensure we win a larger amount of money (if and only if we win). If we got a common combination, we could keep it and continue drawing numbers to get an uncommon combination."
   ]
  },
  {
   "cell_type": "markdown",
   "metadata": {},
   "source": [
    "Exercise 13.5\n",
    "\n",
    "WowCo.com is a new startup prediction company. After years of failures, they eventually find a neural network with a trillion hidden units that achieves zero test error on every learning problem posted on the internet up to last week.\n",
    "\n",
    "Each learning problem included a train and test set. Proud of their achievement, they market their product aggressively with the claim that it ‘predicts perfectly on all known problems’. Discuss whether or not these claims would justify buying this product."
   ]
  },
  {
   "cell_type": "raw",
   "metadata": {},
   "source": [
    "If I had no current dataset or bad training/test dataset about the problem I am facing (eg: a purely qualitative, unquantifiable problem), the claim would not justify purchasing the product. This is because neural networks are trained and tested on existing data. If there was no way of representing the problem for computers to understand, neural network would not work. This is unlike human intuition or expert diagnosis, which is what the neural network is somewhat based on. \n",
    "\n",
    "I would buy the product if I merely need to be able to make good classification or regression predictions without understanding *why* the predictions were good. This is because there are too many hidden units (a trillion) that goes behind the prediction that makes explaining the prediction nearly impossible. We can ask why the product predicted things a certain way but would not get an isolated answer as to why, and therefore cannot act to change the predicted outcome if they were unfavorable to us (eg: predicting a cyber attack without knowing the exact source and nature). Without knowing the mechanics behind the predictions, this neural network model are hence not considered very generalizable. This means that beyond the test data, we always run the risk of having a model that is overfitted or underfitted when making predictions. The hardest thing is that we won't be able to know which exact parameter to tweak during supervised learning, such as bias. I would justifiably purchase the product to the extent that the predicted outcome is more important than the explanation process."
   ]
  }
 ],
 "metadata": {
  "kernelspec": {
   "display_name": "Python 2",
   "language": "python",
   "name": "python2"
  },
  "language_info": {
   "codemirror_mode": {
    "name": "ipython",
    "version": 2
   },
   "file_extension": ".py",
   "mimetype": "text/x-python",
   "name": "python",
   "nbconvert_exporter": "python",
   "pygments_lexer": "ipython2",
   "version": "2.7.13"
  }
 },
 "nbformat": 4,
 "nbformat_minor": 2
}
