{
 "cells": [
  {
   "cell_type": "code",
   "execution_count": 3,
   "metadata": {},
   "outputs": [
    {
     "data": {
      "image/png": "[encoded data removed]",
      "text/plain": [
       "<matplotlib.figure.Figure at 0x10a774090>"
      ]
     },
     "metadata": {},
     "output_type": "display_data"
    }
   ],
   "source": [
    "import numpy as np\n",
    "import matplotlib.pyplot as plt\n",
    "from sklearn import linear_model\n",
    "\n",
    "years = range(2011, 2017)\n",
    "files = ['CRNS0101-05-%d-CA_Yosemite_Village_12_W.txt' % y for y in years]\n",
    "usecols = [1, 2, 8]\n",
    "\n",
    "data = [np.loadtxt(f, usecols=usecols) for f in files]\n",
    "data = np.vstack(data)\n",
    "\n",
    "# Map from HHmm to an integer\n",
    "data[:, 1] = np.floor_divide(data[:, 1], 100) * 60 + np.mod(data[:, 1], 100)\n",
    "valid = data[:, 2] > -1000\n",
    "\n",
    "x_train = data[valid, 1].reshape(-1, 1)\n",
    "y_train = data[valid, 2]\n",
    "regr = linear_model.LinearRegression()\n",
    "regr.fit(x_train, y_train)\n",
    "\n",
    "x_predict = [[0], [1435]]\n",
    "y_predict = regr.predict(x_predict)\n",
    "\n",
    "plt.scatter(data[valid, 1], data[valid, 2], label='Data', color='b')\n",
    "plt.plot(x_predict, y_predict, label='Linear prediction', color='r')\n",
    "plt.legend(loc='best')\n",
    "plt.show()"
   ]
  }
 ],
 "metadata": {
  "kernelspec": {
   "display_name": "Python 2",
   "language": "python",
   "name": "python2"
  },
  "language_info": {
   "codemirror_mode": {
    "name": "ipython",
    "version": 2
   },
   "file_extension": ".py",
   "mimetype": "text/x-python",
   "name": "python",
   "nbconvert_exporter": "python",
   "pygments_lexer": "ipython2",
   "version": "2.7.13"
  }
 },
 "nbformat": 4,
 "nbformat_minor": 2
}
