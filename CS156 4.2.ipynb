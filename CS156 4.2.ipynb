{
 "cells": [
  {
   "cell_type": "code",
   "execution_count": 7,
   "metadata": {},
   "outputs": [
    {
     "name": "stdout",
     "output_type": "stream",
     "text": [
      "['Heads', 'Heads', 'Heads', 'Heads', 'Heads', 'Heads', 'Heads', 'Heads', 'Heads', 'Heads', 'Heads', 'Heads', 'Heads', 'Heads', 'Heads', 'Heads', 'Heads', 'Heads', 'Heads', 'Heads', 'Tails', 'Tails', 'Tails', 'Tails', 'Tails', 'Tails', 'Tails', 'Tails', 'Tails', 'Tails', 'Heads', 'Heads', 'Heads', 'Heads', 'Heads', 'Heads', 'Heads', 'Heads', 'Heads', 'Heads', 'Heads', 'Heads', 'Heads', 'Heads', 'Heads', 'Heads', 'Heads', 'Heads', 'Heads', 'Heads', 'Heads', 'Heads', 'Heads', 'Heads', 'Heads', 'Heads', 'Heads', 'Heads', 'Heads', 'Heads', 'Heads', 'Heads', 'Heads', 'Heads', 'Heads', 'Heads', 'Heads', 'Heads', 'Heads', 'Heads', 'Heads', 'Heads', 'Heads', 'Heads', 'Heads', 'Heads', 'Heads', 'Heads', 'Heads', 'Heads', 'Tails', 'Tails', 'Tails', 'Tails', 'Tails', 'Tails', 'Tails', 'Tails', 'Tails', 'Tails', 'Tails', 'Tails', 'Tails', 'Tails', 'Tails', 'Tails', 'Tails', 'Tails', 'Tails', 'Tails']\n"
     ]
    }
   ],
   "source": [
    "import numpy as np\n",
    "import random\n",
    "N = 10\n",
    "epsilon = np.zeros(N)\n",
    "results = []\n",
    "\n",
    "def coin_flip(): #flip coin for each n = 1,...,N\n",
    "    for repeats in range(N):\n",
    "        coin = random.randint(0, 1) \n",
    "        if (coin == 0):\n",
    "            flip1 = random.randint(0,10)\n",
    "            for throws in range(N):\n",
    "                if flip1 > 2:\n",
    "                    result = \"Heads\"\n",
    "                    results.append(result)\n",
    "                else:\n",
    "                    result = \"Tails\"\n",
    "                    results.append(result)\n",
    "\n",
    "        elif (coin == 1):\n",
    "            flip2 = random.randint(0,10)\n",
    "            for throws in range(N):\n",
    "                if flip2 > 2:\n",
    "                    result = \"Tails\"\n",
    "                    results.append(result)\n",
    "                else:\n",
    "                    result = \"Heads\"    \n",
    "                    results.append(result)\n",
    "    return results\n",
    "\n",
    "print coin_flip()"
   ]
  },
  {
   "cell_type": "code",
   "execution_count": null,
   "metadata": {
    "collapsed": true
   },
   "outputs": [],
   "source": []
  }
 ],
 "metadata": {
  "kernelspec": {
   "display_name": "Python 2",
   "language": "python",
   "name": "python2"
  },
  "language_info": {
   "codemirror_mode": {
    "name": "ipython",
    "version": 2
   },
   "file_extension": ".py",
   "mimetype": "text/x-python",
   "name": "python",
   "nbconvert_exporter": "python",
   "pygments_lexer": "ipython2",
   "version": "2.7.13"
  }
 },
 "nbformat": 4,
 "nbformat_minor": 2
}
