{
 "cells": [
  {
   "cell_type": "code",
   "execution_count": 102,
   "metadata": {},
   "outputs": [
    {
     "data": {
      "image/png": "[encoded data removed]",
      "text/plain": [
       "<matplotlib.figure.Figure at 0x10b5645d0>"
      ]
     },
     "metadata": {},
     "output_type": "display_data"
    }
   ],
   "source": [
    "%matplotlib inline\n",
    "\n",
    "import pandas as pd\n",
    "from datetime import datetime\n",
    "import matplotlib.pyplot as plt\n",
    "import numpy as np\n",
    "\n",
    "df = pd.read_csv('anonymized.csv') \n",
    "\n",
    "df['Month'] = df['Date'].apply(lambda x: datetime.strptime(x,'%d%b%Y').month)\n",
    "# df['Year'] = df['Date'].apply(lambda x: datetime.strptime(x,'%d%b%Y').year)\n",
    "\n",
    "df = df.drop(['Date'],axis=1)\n",
    "df = df.drop(['Amount'],axis=1)\n",
    "df['Frequency'] = df.groupby('Month')['Month'].transform('count')\n",
    "df = df.drop_duplicates()\n",
    "df['Month'] = sorted(df['Month'])\n",
    "\n",
    "x = df['Month']\n",
    "y = df['Frequency']\n",
    "plt.plot(x,y,'r')\n",
    "plt.xlabel('Month')\n",
    "plt.xticks(np.arange(1, 13, 1.0))\n",
    "plt.ylabel('Frequency of Transaction')\n",
    "plt.show()"
   ]
  },
  {
   "cell_type": "code",
   "execution_count": 106,
   "metadata": {},
   "outputs": [
    {
     "name": "stdout",
     "output_type": "stream",
     "text": [
      "[3 0 3 3 3 3 1 0 0 1 2 3 0 0 1 0 2 3 0 0 0 2 0 3 0 0 3 1 1 1 3 0 1 1 1 1 1\n",
      " 3 0 0 0 1 0 1 0 0 3 2 1 1 0 0 2 0 1 0 0 1 1 1 1 1 0 1 1 1 2 0 2 1 0 0 1 3\n",
      " 0 3 1 1 1 0 2 0 1 2 1 1 2 2 0 2 1 1 1 2 1 1 3 1 0 0 0 0 2 2 1 1 3 1 0 3 1\n",
      " 0 3 3 0 0 1 0 0 3 0 0 0 1 1 1 3 1 0 2 0 1 2 3 1 0 0 1 1 3 2 0 1 2 0 0 1 1\n",
      " 1 1 1 0 1 0 2 0 1 1 1 0 0 1 0 0 1 2 0 0 3 0 0 1 0 3 3 1 0 3 3 1 3 0 2 0 0\n",
      " 0 3 1 0 0 1 0 0 0 0 1 0 1 0 0 0 0 3 2 2 0 1 1 0 2 2 2 0 1 2 1 0 0 0 0 1 1\n",
      " 0 0 3 3 0 3 0 3 2 0 2 1 3 2 0 1 3 0 0 3 2 1 1 2 0 1 1 1 2 1 1 0 3 0 2 0 1\n",
      " 0 1 3 0 3 3 0 0 0 0 0 0 1 1 1 1 2 3 3 2 1 0 0 3 1 0 1 0 1 1 1 1 3 3 1 3 2\n",
      " 0 1 1 2 2 2 0 0 3 2 0 1 0 0 0 1 3 3 0 1 2 1 2 0 2 2 1 2 2 1 2 0 0 2 3 1 1\n",
      " 2 1 1 2 0 1 0 1 1 2 1 1 1 1 0 3 0 3 0 0 0 0 0 0 3 2 0 3 3 1 3 0 1 1 1 3 0\n",
      " 0 1 2 0 1 1 2 3 2 0 0 3 0 3 0 1 2 0 1 0 1 1 0 3 0 3 2 1 3 2 2 1 0 0 1 3 0\n",
      " 2 0 0 3 0 0 0 3 1 1 0 0 1 1 0 1 1 3 3 1 0 3 1 0 2 0 0 1 0 2 2 0 1 1 1 3 1\n",
      " 0 1 0 0 1 1 0 0 1 0 0 2 1 0 1 3 1 1 1 0 1 3 1 0 0 0 0 2 2 0 0 3 1 1 1 3 1\n",
      " 3 1 2 0 1 0 3 3 0 0 3 0 2 2 3 0 0 0 1 1 1 1 1 2 0 0 3 0 2 1 0 0 1 1 3 0 3\n",
      " 3 3 1 1 1 2 1 3 1 1 0 1 1 0 0 0 0 1 2 0 0 0 1 1 0 3 0 0 2 1 0 1 0 1 1 2 0\n",
      " 2 3 0 2 1 0 0 1 1 0 3 1 0 1 0 2 0 0 3 0 2 1 1 0 3 3 2 1 2 2 2 0 0 1 1 2 0\n",
      " 0 0 2 1 0 1 0 3 2 2 2 1 1 1 0 0 0 1 1 0 1 0 0 3 0 1 0 0 0 2 3 1 1 3 0 0 2\n",
      " 0 1 1 2 1 1 2 2 1 2 2 0 1 0 2 2 3 0 3 3 0 1 1 0 1 0 1 2 0 1 3 1 0 0 0 0 2\n",
      " 0 2 0 0 1 0 0 0 0 2 1 0 0 3 0 0 0 0 0 1 0 1 3 1 0 1 2 0 3 3 0 2 3 1 3 2 0\n",
      " 0 1 1 0 3 2 3 3 0 0 0 3 0 0 1 0 1 0 1 1 3 1 2 1 1 1 3 3 1 0 0 0 0 0 0 0 1\n",
      " 1 0 3 1 3 1 0 0 0 1 1 0 3 0 3 0 0 3 2 2 1 1 0 3 2 0 2 0 1 3 0 1 2 1 3 0 1\n",
      " 1 0 1 0 0 2 3 1 0 3 0 0 0 2 0 2 2 1 1 0 0 2 2 3 1 3 2 3 0 2 0 0 2 1 1 3 2\n",
      " 2 1 1 1 0 0 2 3 3 0 1 2 1 1 1 0 3 2 3 3 3 0 2 0 3 0 1 0 0 2 0 2 0 0 1 1 1\n",
      " 0 1 0 1 0 1 2 1 3 0 0 0 1 1 0 1 1 3 0 1 0 3 0 0 1 1 0 0 2 1 0 1 0 1 2 1 3\n",
      " 2 0 1 0 3 2 2 2 0 2 2 3 3 1 1 2 3 0 0 0 3 0 1 1 0 1 3 0 1 2 0 3 2 3 3 3 1\n",
      " 0 3 3 0 1 0 3 2 0 2 3 2 0 0 1 0 1 0 1 0 2 0 1 1 0 0 0 0 2 3 3 2 3 1 2 0 2\n",
      " 1 0 2 1 0 0 0 1 1 2 3 0 1 2 0 0 0 0 0 0 0 1 2 1 0 3 0 1 1 2 2 2 2 0 1 1 3\n",
      " 3]\n"
     ]
    }
   ],
   "source": [
    "import numpy as np\n",
    "\n",
    "p_cluster = [0.4, 0.3, 0.15, 0.15]\n",
    "\n",
    "n_questions = 20\n",
    "n_people = 1000\n",
    "n_clusters = len(p_cluster)\n",
    "\n",
    "biases = np.random.beta(0.75, 0.75, size=(n_questions, n_clusters))\n",
    "people = np.random.choice(range(n_clusters), size=n_people, p=p_cluster)\n",
    "\n",
    "answers = np.zeros((n_people, n_questions), dtype=bool)\n",
    "\n",
    "for a in range(n_people):\n",
    "    cluster = people[a]\n",
    "    answers[a, :] = np.random.rand(n_questions) < biases[:, cluster]\n",
    "\n",
    "print(people)\n",
    "\n",
    "np.savetxt(\"questionnaire.csv\", answers, delimiter=\",\", fmt=\"%d\")\n",
    "np.savetxt(\"questionnaire_answers.csv\", people, delimiter=\",\", fmt=\"%d\")\n",
    "np.savetxt(\"questionnaire_biases.csv\", biases, delimiter=\",\", fmt=\"%.3f\")"
   ]
  },
  {
   "cell_type": "code",
   "execution_count": 107,
   "metadata": {},
   "outputs": [
    {
     "name": "stdout",
     "output_type": "stream",
     "text": [
      "[[0.5 0.5 0.5 0.5]\n",
      " [0.5 0.5 0.5 0.5]\n",
      " [0.5 0.5 0.5 0.5]\n",
      " [0.5 0.5 0.5 0.5]\n",
      " [0.5 0.5 0.5 0.5]\n",
      " [0.5 0.5 0.5 0.5]\n",
      " [0.5 0.5 0.5 0.5]\n",
      " [0.5 0.5 0.5 0.5]\n",
      " [0.5 0.5 0.5 0.5]\n",
      " [0.5 0.5 0.5 0.5]\n",
      " [0.5 0.5 0.5 0.5]\n",
      " [0.5 0.5 0.5 0.5]\n",
      " [0.5 0.5 0.5 0.5]\n",
      " [0.5 0.5 0.5 0.5]\n",
      " [0.5 0.5 0.5 0.5]\n",
      " [0.5 0.5 0.5 0.5]\n",
      " [0.5 0.5 0.5 0.5]\n",
      " [0.5 0.5 0.5 0.5]\n",
      " [0.5 0.5 0.5 0.5]\n",
      " [0.5 0.5 0.5 0.5]]\n",
      "[[0.5960727  0.03934831 0.28678035 0.07779864]\n",
      " [0.35223981 0.32646888 0.23235999 0.08893131]\n",
      " [0.07474763 0.05970621 0.28472027 0.58082589]\n",
      " ...\n",
      " [0.2137493  0.35150843 0.09318962 0.34155265]\n",
      " [0.24378197 0.42167747 0.21691489 0.11762567]\n",
      " [0.29557688 0.21827784 0.3754964  0.11064889]]\n"
     ]
    }
   ],
   "source": [
    "import numpy as np\n",
    "\n",
    "answers = np.loadtxt(\"questionnaire.csv\", delimiter=\",\")\n",
    "n_people, n_questions = answers.shape\n",
    "n_clusters = 4\n",
    "\n",
    "p_clusters = np.asarray([0.25, 0.25, 0.25, 0.25])\n",
    "biases = np.random.beta(0.75, 0.75, size=(n_questions, n_clusters))\n",
    "\n",
    "\n",
    "def expectation(answers, biases, p_clusters):\n",
    "    # In this function we create our expectations.\n",
    "\n",
    "    # This is probably not the correct answer!\n",
    "    people = np.random.rand(n_people, n_clusters)\n",
    "\n",
    "    # normalize the distributions\n",
    "    people = people / people.sum(axis=1, keepdims=1)\n",
    "    return people\n",
    "\n",
    "\n",
    "def maximization(answers, people):\n",
    "    # Treating all the data as visible, now infer the parameters for the model.\n",
    "\n",
    "    # This is probably not the correct answer!\n",
    "    biases = np.zeros((n_questions, n_clusters)) + 0.5\n",
    "    return biases\n",
    "\n",
    "\n",
    "for step in range(10):\n",
    "    people = expectation(answers, biases, p_clusters)\n",
    "    biases = maximization(answers, people)\n",
    "\n",
    "print(biases)\n",
    "print(people)\n",
    "\n",
    "# each row = each person\n",
    "# each column = probability of each cluster of each person"
   ]
  }
 ],
 "metadata": {
  "kernelspec": {
   "display_name": "Python 2",
   "language": "python",
   "name": "python2"
  },
  "language_info": {
   "codemirror_mode": {
    "name": "ipython",
    "version": 2
   },
   "file_extension": ".py",
   "mimetype": "text/x-python",
   "name": "python",
   "nbconvert_exporter": "python",
   "pygments_lexer": "ipython2",
   "version": "2.7.11"
  }
 },
 "nbformat": 4,
 "nbformat_minor": 2
}
