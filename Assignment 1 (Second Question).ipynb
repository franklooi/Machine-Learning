{
 "cells": [
  {
   "cell_type": "markdown",
   "metadata": {},
   "source": [
    "1. Using Scikit.learn, load the MNIST digits (See here: http://scikit-learn.org/stable/modules/generated/sklearn.datasets.load_digits.html#sklearn.datasets.load_digits).\n",
    "\n",
    "2. Plot some of the examples.\n",
    "\n",
    "3. Choose two digit classes (e.g 7s and 3s) , and train a k-nearest neighbor classifier.\n",
    "\n",
    "4. Report your error rates on a held out part of the data.\n",
    "\n",
    "5. (Optional) Test your model on the full dataset (available from http://yann.lecun.com/exdb/mnist/)"
   ]
  },
  {
   "cell_type": "code",
   "execution_count": 2,
   "metadata": {},
   "outputs": [
    {
     "data": {
      "text/plain": [
       "<matplotlib.figure.Figure at 0x10c66b910>"
      ]
     },
     "metadata": {},
     "output_type": "display_data"
    },
    {
     "data": {
      "image/png": "[encoded data removed]",
      "text/plain": [
       "<matplotlib.figure.Figure at 0x10e5c77d0>"
      ]
     },
     "metadata": {},
     "output_type": "display_data"
    },
    {
     "data": {
      "image/png": "[encoded data removed]",
      "text/plain": [
       "<matplotlib.figure.Figure at 0x10e64f350>"
      ]
     },
     "metadata": {},
     "output_type": "display_data"
    },
    {
     "data": {
      "image/png": "[encoded data removed]",
      "text/plain": [
       "<matplotlib.figure.Figure at 0x10e6d6390>"
      ]
     },
     "metadata": {},
     "output_type": "display_data"
    }
   ],
   "source": [
    "%matplotlib inline\n",
    "\n",
    "from sklearn.datasets import load_digits\n",
    "import matplotlib.pyplot as plt  \n",
    "import numpy as np\n",
    "from __future__ import print_function\n",
    "from sklearn.model_selection import train_test_split\n",
    "from sklearn.neighbors import KNeighborsClassifier\n",
    "from sklearn.metrics import classification_report\n",
    "from skimage import exposure\n",
    "import pandas as pd\n",
    "\n",
    "digits = load_digits()\n",
    "\n",
    "plt.gray()\n",
    "for i in range(3):\n",
    "    plt.matshow(digits.images[i]) \n",
    "plt.show()"
   ]
  },
  {
   "cell_type": "code",
   "execution_count": 13,
   "metadata": {},
   "outputs": [
    {
     "name": "stdout",
     "output_type": "stream",
     "text": [
      "Testing the best value of k on validation dataset of size 68\n",
      "The best value of k is 1 with accuracy score of 100.00\n",
      "\n",
      "Evaluation Report\n",
      "             precision    recall  f1-score   support\n",
      "\n",
      "          0       1.00      1.00      1.00        46\n",
      "          1       1.00      1.00      1.00        44\n",
      "\n",
      "avg / total       1.00      1.00      1.00        90\n",
      "\n"
     ]
    }
   ],
   "source": [
    "mnist = load_digits(2) # Load digit classes of 0 and 1\n",
    "\n",
    "X = np.array(mnist.data)\n",
    "Y = mnist.target\n",
    "\n",
    "def KNN(X,Y,initial_k,k_increment):\n",
    "    # k-nearest neighbor where X and Y = Training data and labels. \n",
    "    # Initial_k = Starting k-value, k-increment = increment in k during test\n",
    "    \n",
    "    # Splitting data into training and testing sets\n",
    "    (trainData, testData, trainLabels, testLabels) = train_test_split(X, Y, test_size=0.25, random_state=42)\n",
    "    \n",
    "    # Further splitting training set into validation set to find optimal value of k\n",
    "    \n",
    "    (trainData, valData, trainLabels, valLabels) = train_test_split(trainData, trainLabels, \n",
    "                                                                    test_size=0.25, random_state=84)\n",
    "\n",
    "    # Declare array to store all possible k-values and accuracy values of each k-value\n",
    "    kVals = range(initial_k, len(valData)+1, k_increment)\n",
    "    accuracies = []\n",
    "\n",
    "    print(\"Testing the best value of k on validation dataset of size %d\" % len(valLabels))\n",
    "    \n",
    "    # Runs KNN for all values of k within range and select k with the highest accuracy\n",
    "    for k in kVals:\n",
    "        model = KNeighborsClassifier(n_neighbors=k)\n",
    "        model.fit(trainData, trainLabels)\n",
    "\n",
    "        score = model.score(valData, valLabels)\n",
    "        accuracies.append(score)\n",
    "\n",
    "    index = np.argmax(accuracies)\n",
    "    \n",
    "    print(\"The best value of k is %d with accuracy score of %.2f\" % (kVals[index], accuracies[index] * 100))\n",
    "    \n",
    "    # Run KNN with the best value of k and predict the test data\n",
    "    model = KNeighborsClassifier(n_neighbors=kVals[index])\n",
    "    model.fit(trainData, trainLabels)\n",
    "    predictions = model.predict(testData)\n",
    "\n",
    "    # Report the accuracy for predicted values of test \n",
    "    print (\"\")\n",
    "    print(\"Evaluation Report\")\n",
    "    print(classification_report(testLabels, predictions))\n",
    "    \n",
    "KNN(X,Y,1,1)\n",
    "\n",
    "# Model accuracy improved with codes adopted from https://gurus.pyimagesearch.com/lesson-sample-k-nearest-neighbor-classification/"
   ]
  },
  {
   "cell_type": "code",
   "execution_count": 14,
   "metadata": {},
   "outputs": [
    {
     "name": "stdout",
     "output_type": "stream",
     "text": [
      "Testing the best value of k on validation dataset of size 1875\n",
      "The best value of k is 1 with accuracy score of 94.99\n",
      "\n",
      "Evaluation Report\n",
      "             precision    recall  f1-score   support\n",
      "\n",
      "          0       0.95      0.98      0.96       247\n",
      "          1       0.97      1.00      0.98       285\n",
      "          2       0.94      0.91      0.92       266\n",
      "          3       0.92      0.93      0.92       256\n",
      "          4       0.93      0.92      0.92       261\n",
      "          5       0.94      0.92      0.93       204\n",
      "          6       0.95      0.96      0.96       248\n",
      "          7       0.91      0.95      0.93       238\n",
      "          8       0.97      0.88      0.92       239\n",
      "          9       0.90      0.90      0.90       256\n",
      "\n",
      "avg / total       0.94      0.94      0.94      2500\n",
      "\n"
     ]
    }
   ],
   "source": [
    "from mnist import MNIST\n",
    "\n",
    "# Test the full MNIST data\n",
    "mndata = MNIST('')\n",
    "images, labels = mndata.load_training()\n",
    "images, labels = mndata.load_testing()\n",
    "\n",
    "KNN(images,labels,1,300)"
   ]
  },
  {
   "cell_type": "code",
   "execution_count": null,
   "metadata": {
    "collapsed": true
   },
   "outputs": [],
   "source": []
  }
 ],
 "metadata": {
  "kernelspec": {
   "display_name": "Python 2",
   "language": "python",
   "name": "python2"
  },
  "language_info": {
   "codemirror_mode": {
    "name": "ipython",
    "version": 2
   },
   "file_extension": ".py",
   "mimetype": "text/x-python",
   "name": "python",
   "nbconvert_exporter": "python",
   "pygments_lexer": "ipython2",
   "version": "2.7.11"
  }
 },
 "nbformat": 4,
 "nbformat_minor": 2
}
