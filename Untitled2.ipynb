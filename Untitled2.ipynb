{
 "cells": [
  {
   "cell_type": "code",
   "execution_count": 9,
   "metadata": {},
   "outputs": [
    {
     "name": "stdout",
     "output_type": "stream",
     "text": [
      "  Application Date                        Loan Title  Risk_Score  \\\n",
      "0       26/05/2007  Wedding Covered but No Honeymoon       693.0   \n",
      "\n",
      "  Debt-To-Income Ratio Zip Code State Employment Length  Policy Code  \n",
      "0                  10%    481xx    NM           4 years            0  \n",
      "Amount Requested             35000\n",
      "Application Date        31/12/2012\n",
      "Loan Title                   other\n",
      "Risk_Score                     597\n",
      "Debt-To-Income Ratio         4.13%\n",
      "Zip Code                     211xx\n",
      "State                           MD\n",
      "Employment Length         < 1 year\n",
      "Policy Code                      0\n",
      "Name: 755490, dtype: object\n"
     ]
    }
   ],
   "source": [
    "import pandas as pd\n",
    "\n",
    "df1 = pd.read_csv(\"Rejected Loans.csv\",low_memory=False)\n",
    "\n",
    "x = df1.iloc[:1,1:]\n",
    "y = df1.iloc[-1]\n",
    "\n",
    "print x\n",
    "print y"
   ]
  },
  {
   "cell_type": "code",
   "execution_count": null,
   "metadata": {
    "collapsed": true
   },
   "outputs": [],
   "source": []
  }
 ],
 "metadata": {
  "kernelspec": {
   "display_name": "Python 2",
   "language": "python",
   "name": "python2"
  },
  "language_info": {
   "codemirror_mode": {
    "name": "ipython",
    "version": 2
   },
   "file_extension": ".py",
   "mimetype": "text/x-python",
   "name": "python",
   "nbconvert_exporter": "python",
   "pygments_lexer": "ipython2",
   "version": "2.7.13"
  }
 },
 "nbformat": 4,
 "nbformat_minor": 2
}
